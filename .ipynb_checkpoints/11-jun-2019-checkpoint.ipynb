{
 "cells": [
  {
   "cell_type": "markdown",
   "metadata": {},
   "source": [
    "# Mark Down Basics\n",
    "* **bold**\n",
    "*italic*\n",
    "***BOLDITLIC***\n",
    "* normal text \n",
    "   * sublist\n",
    "   * sublist2 *\n",
    "   \n",
    "   \n",
    "1. oredered list1\n",
    "2. ordered list2\n",
    "\n",
    "\n",
    "   \n"
   ]
  },
  {
   "cell_type": "code",
   "execution_count": null,
   "metadata": {},
   "outputs": [],
   "source": [
    "a=9581645635"
   ]
  },
  {
   "cell_type": "code",
   "execution_count": null,
   "metadata": {},
   "outputs": [],
   "source": [
    "print "
   ]
  },
  {
   "attachments": {},
   "cell_type": "markdown",
   "metadata": {},
   "source": [
    "1. element1\n",
    "2. element2\n",
    "\n",
    "[thor](guruvaaahhh.jpg)\n",
    "\n",
    "- [] option1\n",
    "- [] option2\n",
    "- [] option3\n",
    "- [] option4\n",
    " ![mama](guruvaaahhh.jpg)\n",
    "\n",
    "<img src=\"guruvaahhh.jpg\" style=\"float:left\">\n",
    "< 1.daffa\n",
    "< 2.jaffa\n",
    "\n",
    "\n",
    "i get more income [myself] [1] than [apssdc] [2].\n",
    "\n",
    "[1]: http://www.facebook.com/   \"myself\"\n",
    "[2]: http://www.apssdc.in/      \"apssdc\"\n",
    "\n",
    "\n",
    "\n",
    "'printf(\"code snippets\")'\n",
    "\n",
    "\n",
    "\n",
    "\n",
    "I get 10 times more traffic from [Google] [1] than from\n",
    "[Yahoo] [2] or [MSN] [3].\n",
    "\n",
    "  [1]: http://google.com/        \"Google\"\n",
    "  [2]: http://search.yahoo.com/  \"Yahoo Search\"\n",
    "  [3]: http://search.msn.com/    \"MSN Search\"\n",
    "  \n",
    "  \n",
    "  mardown(\"google.com\")"
   ]
  },
  {
   "cell_type": "markdown",
   "metadata": {},
   "source": [
    "# Python Basics\n",
    "###### Python version 3.7\n",
    "\n",
    "- scripting\n",
    "- object oriented\n",
    "- i dont know"
   ]
  },
  {
   "cell_type": "code",
   "execution_count": null,
   "metadata": {},
   "outputs": [],
   "source": [
    "#Python comments\n",
    "print(\"good eveneing feeling soo sleepy\",\"!\",end=\" \")#basic Output\n",
    "print(\"Hello python niiii\")\n"
   ]
  },
  {
   "cell_type": "markdown",
   "metadata": {},
   "source": []
  },
  {
   "cell_type": "markdown",
   "metadata": {},
   "source": [
    "### Assignment"
   ]
  },
  {
   "cell_type": "code",
   "execution_count": null,
   "metadata": {},
   "outputs": [],
   "source": [
    "a=123456  #sing;e variable assignment\n",
    "\n",
    "           #multivariable assignment of same variable\n",
    "b = c = d = a\n",
    "d\n",
    "\n",
    "#multivariable assignment with different values\n",
    "e,f,g = 123,234,345\n",
    "print(g,f,c)\n",
    "c,d,d+f,d,a\n"
   ]
  },
  {
   "cell_type": "markdown",
   "metadata": {},
   "source": []
  },
  {
   "cell_type": "markdown",
   "metadata": {},
   "source": [
    "# Arthematic Operations using \n",
    "- +\n",
    "- - \n",
    "- * \n",
    "- /\n",
    "- **\n",
    "- %"
   ]
  },
  {
   "cell_type": "code",
   "execution_count": 3,
   "metadata": {},
   "outputs": [
    {
     "name": "stdout",
     "output_type": "stream",
     "text": [
      "24\n",
      "26951955996824334101419462656\n"
     ]
    },
    {
     "data": {
      "text/plain": [
       "29"
      ]
     },
     "execution_count": 3,
     "metadata": {},
     "output_type": "execute_result"
    }
   ],
   "source": [
    "a=123\n",
    "b=234\n",
    "\n",
    "print(a%99)\n",
    "print(b**12)\n",
    "n=b**12\n",
    "type(n)\n",
    "##len(str(n))\n",
    "n3=n**1\n",
    "##print(n3)\n",
    "len(str(n3))\n"
   ]
  },
  {
   "cell_type": "markdown",
   "metadata": {},
   "source": []
  },
  {
   "cell_type": "code",
   "execution_count": null,
   "metadata": {},
   "outputs": [],
   "source": []
  },
  {
   "cell_type": "code",
   "execution_count": null,
   "metadata": {},
   "outputs": [],
   "source": []
  }
 ],
 "metadata": {
  "kernelspec": {
   "display_name": "Python 3",
   "language": "python",
   "name": "python3"
  },
  "language_info": {
   "codemirror_mode": {
    "name": "ipython",
    "version": 3
   },
   "file_extension": ".py",
   "mimetype": "text/x-python",
   "name": "python",
   "nbconvert_exporter": "python",
   "pygments_lexer": "ipython3",
   "version": "3.7.3"
  }
 },
 "nbformat": 4,
 "nbformat_minor": 2
}
