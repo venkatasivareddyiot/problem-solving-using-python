{
 "cells": [
  {
   "cell_type": "markdown",
   "metadata": {},
   "source": [
    "# Mark Down Basics\n",
    "* **bold**\n",
    "*italic*\n",
    "***BOLDITLIC***\n",
    "* normal text \n",
    "   * sublist\n",
    "   * sublist2 *\n",
    "   \n",
    "   \n",
    "1. oredered list1\n",
    "2. ordered list2\n",
    "\n",
    "\n",
    "   \n"
   ]
  },
  {
   "cell_type": "code",
   "execution_count": null,
   "metadata": {},
   "outputs": [],
   "source": [
    "a=9581645635"
   ]
  },
  {
   "cell_type": "code",
   "execution_count": null,
   "metadata": {},
   "outputs": [],
   "source": [
    "print "
   ]
  },
  {
   "attachments": {},
   "cell_type": "markdown",
   "metadata": {},
   "source": [
    "1. element1\n",
    "2. element2\n",
    "\n",
    "[thor](guruvaaahhh.jpg)\n",
    "\n",
    "- [] option1\n",
    "- [] option2\n",
    "- [] option3\n",
    "- [] option4\n",
    " ![mama](guruvaaahhh.jpg)\n",
    "\n",
    "<img src=\"guruvaahhh.jpg\" style=\"float:left\">\n",
    "< 1.daffa\n",
    "< 2.jaffa\n",
    "\n",
    "\n",
    "i get more income [myself] [1] than [apssdc] [2].\n",
    "\n",
    "[1]: http://www.facebook.com/   \"myself\"\n",
    "[2]: http://www.apssdc.in/      \"apssdc\"\n",
    "\n",
    "\n",
    "\n",
    "'printf(\"code snippets\")'\n",
    "\n",
    "\n",
    "\n",
    "\n",
    "I get 10 times more traffic from [Google] [1] than from\n",
    "[Yahoo] [2] or [MSN] [3].\n",
    "\n",
    "  [1]: http://google.com/        \"Google\"\n",
    "  [2]: http://search.yahoo.com/  \"Yahoo Search\"\n",
    "  [3]: http://search.msn.com/    \"MSN Search\"\n",
    "  \n",
    "  \n",
    "  mardown(\"google.com\")"
   ]
  },
  {
   "cell_type": "markdown",
   "metadata": {},
   "source": [
    "# Python Basics\n",
    "###### Python version 3.7\n",
    "\n",
    "- scripting\n",
    "- object oriented\n",
    "- i dont know"
   ]
  },
  {
   "cell_type": "code",
   "execution_count": null,
   "metadata": {},
   "outputs": [],
   "source": [
    "#Python comments\n",
    "print(\"good eveneing feeling soo sleepy\",\"!\",end=\" \")#basic Output\n",
    "print(\"Hello python niiii\")\n"
   ]
  },
  {
   "cell_type": "markdown",
   "metadata": {},
   "source": []
  },
  {
   "cell_type": "markdown",
   "metadata": {},
   "source": [
    "### Assignment"
   ]
  },
  {
   "cell_type": "code",
   "execution_count": null,
   "metadata": {},
   "outputs": [],
   "source": [
    "a=123456  #sing;e variable assignment\n",
    "\n",
    "           #multivariable assignment of same variable\n",
    "b = c = d = a\n",
    "d\n",
    "\n",
    "#multivariable assignment with different values\n",
    "e,f,g = 123,234,345\n",
    "print(g,f,c)\n",
    "c,d,d+f,d,a\n"
   ]
  },
  {
   "cell_type": "markdown",
   "metadata": {},
   "source": []
  },
  {
   "cell_type": "markdown",
   "metadata": {},
   "source": [
    "# Data Types & type conversions\n",
    "- int\n",
    "- float\n",
    "- String\n",
    "- double\n"
   ]
  },
  {
   "cell_type": "code",
   "execution_count": null,
   "metadata": {},
   "outputs": [],
   "source": [
    "s=\"Shiva Venkat\"\n",
    "type(s)\n",
    "f1=0.9581645635\n",
    "#type(f1)\n",
    "str(f1)\n",
    "\n"
   ]
  },
  {
   "cell_type": "code",
   "execution_count": null,
   "metadata": {},
   "outputs": [],
   "source": []
  },
  {
   "cell_type": "markdown",
   "metadata": {},
   "source": [
    "# Arthematic Operations using \n",
    "- +\n",
    "- - \n",
    "- * \n",
    "- /\n",
    "- **\n",
    "- %"
   ]
  },
  {
   "cell_type": "code",
   "execution_count": null,
   "metadata": {},
   "outputs": [],
   "source": [
    "a=123\n",
    "b=234\n",
    "\n",
    "print(a%99)\n",
    "print(b**12)\n",
    "n=b**12\n",
    "type(n)\n",
    "##len(str(n))\n",
    "n3=n**1\n",
    "##print(n3)\n",
    "len(str(n3))\n",
    "atoms=10**83\n",
    "len(str(atoms))\n",
    "print(atoms)\n",
    "type(str(atoms))"
   ]
  },
  {
   "cell_type": "markdown",
   "metadata": {},
   "source": []
  },
  {
   "cell_type": "markdown",
   "metadata": {},
   "source": [
    "# conditionals\n",
    "- \n",
    "\n"
   ]
  },
  {
   "cell_type": "code",
   "execution_count": null,
   "metadata": {},
   "outputs": [],
   "source": [
    "if atoms < 10 **99:\n",
    "    print(\"TRUE\")\n",
    "else:\n",
    "    print(\"FALSE\")\n",
    "len(\"true\")\n",
    "str(len(\"true\"))\n"
   ]
  },
  {
   "cell_type": "code",
   "execution_count": null,
   "metadata": {},
   "outputs": [],
   "source": [
    "#enen or odd\n",
    "a=int(input(\"enter a number\"))\n",
    "if(a%2==0):\n",
    "    print(\"even no\")\n",
    "else:\n",
    "    print(\"odd no\")"
   ]
  },
  {
   "cell_type": "markdown",
   "metadata": {},
   "source": []
  },
  {
   "cell_type": "code",
   "execution_count": 6,
   "metadata": {},
   "outputs": [
    {
     "name": "stdout",
     "output_type": "stream",
     "text": [
      "enter the 1st no-90\n",
      "enter th 2nd no-890\n",
      "enter a 3rd no-67854\n",
      "-90 is greatest no\n"
     ]
    }
   ],
   "source": [
    " #find the greatest of three no\n",
    "n1=int(input(\"enter the 1st no\"))\n",
    "n2=int(input(\"enter th 2nd no\"))\n",
    "n3=int(input(\"enter a 3rd no\"))\n",
    "if(n1>n2 and n1>n3):\n",
    "    print(n1,\"is greatest no\")\n",
    "elif(n2>n3):\n",
    "    print(n2,\"is the greatest no\")\n",
    "else:\n",
    "    print(n3,\"is the greatest no\")"
   ]
  },
  {
   "cell_type": "markdown",
   "metadata": {},
   "source": []
  },
  {
   "cell_type": "code",
   "execution_count": 13,
   "metadata": {},
   "outputs": [
    {
     "name": "stdout",
     "output_type": "stream",
     "text": [
      "enter a year2016\n",
      "2016 leap year\n"
     ]
    }
   ],
   "source": [
    "year=int(input(\"enter a year\"))\n",
    "if((year%400)==0 or ((year%100)!=0 and (year%4)==0)):\n",
    "    print(year,\"leap year\")\n",
    "else:\n",
    "    print(year,\"not a leap year\")"
   ]
  },
  {
   "cell_type": "markdown",
   "metadata": {},
   "source": []
  },
  {
   "cell_type": "code",
   "execution_count": 16,
   "metadata": {},
   "outputs": [
    {
     "name": "stdout",
     "output_type": "stream",
     "text": [
      "enter a no23\n",
      "23 out of range\n"
     ]
    }
   ],
   "source": [
    "n=int(input(\"enter a no\"))\n",
    "if(n<=0 and n>=150):\n",
    "    print(n,\"in range\")\n",
    "else:\n",
    "    print(n,\"out of range\")"
   ]
  },
  {
   "cell_type": "code",
   "execution_count": 18,
   "metadata": {},
   "outputs": [
    {
     "name": "stdout",
     "output_type": "stream",
     "text": [
      "enter a no234\n",
      "not multiple of 10\n"
     ]
    }
   ],
   "source": [
    "#check if a no is multiple of 10\n",
    "n=int(input(\"enter a no\"))\n",
    "if(n%10==0):\n",
    "    print(\"multiple of 10\")\n",
    "else:\n",
    "    print(\"not multiple of 10\")"
   ]
  },
  {
   "cell_type": "code",
   "execution_count": 40,
   "metadata": {},
   "outputs": [
    {
     "name": "stdout",
     "output_type": "stream",
     "text": [
      "entar a no123\n",
      "enter a no123\n",
      "not equal\n"
     ]
    }
   ],
   "source": [
    "string=input(\"entar a no\")\n",
    "hlo=int(input(\"enter a no\"))\n",
    "if(hlo==hi):\n",
    "    print(\"equal\")\n",
    "else:\n",
    "    print(\"not equal\")"
   ]
  },
  {
   "cell_type": "markdown",
   "metadata": {},
   "source": []
  },
  {
   "cell_type": "code",
   "execution_count": 28,
   "metadata": {},
   "outputs": [
    {
     "data": {
      "text/plain": [
       "8784"
      ]
     },
     "execution_count": 28,
     "metadata": {},
     "output_type": "execute_result"
    }
   ],
   "source": [
    "#caculate the no of microseconds in a given year \n",
    "366*24\n",
    "    "
   ]
  },
  {
   "cell_type": "code",
   "execution_count": 29,
   "metadata": {},
   "outputs": [
    {
     "data": {
      "text/plain": [
       "527040"
      ]
     },
     "execution_count": 29,
     "metadata": {},
     "output_type": "execute_result"
    }
   ],
   "source": [
    "8784*60"
   ]
  },
  {
   "cell_type": "code",
   "execution_count": 31,
   "metadata": {},
   "outputs": [
    {
     "data": {
      "text/plain": [
       "31622400000000000"
      ]
     },
     "execution_count": 31,
     "metadata": {},
     "output_type": "execute_result"
    }
   ],
   "source": [
    "A=366*24*60*60*10**9\n",
    "A"
   ]
  },
  {
   "cell_type": "code",
   "execution_count": 36,
   "metadata": {},
   "outputs": [
    {
     "data": {
      "text/plain": [
       "31536000000000000"
      ]
     },
     "execution_count": 36,
     "metadata": {},
     "output_type": "execute_result"
    }
   ],
   "source": [
    "B=365*24*60*60*10**9\n",
    "B"
   ]
  },
  {
   "cell_type": "code",
   "execution_count": 44,
   "metadata": {},
   "outputs": [
    {
     "name": "stdout",
     "output_type": "stream",
     "text": [
      "enter a year2019\n",
      "no of nano seconds in 2019 is 31536000000000000\n",
      "17\n"
     ]
    }
   ],
   "source": [
    "a=int(input(\"enter a year\"))\n",
    "if(a%400 ==0 or (a%100!=0 and a%4==0)):\n",
    "    print(\"no of nano seconds in\",a,\"is\",A)\n",
    "else:\n",
    "    print(\"no of nano seconds in\",a,\"is\",B)\n",
    "    c=str(A)\n",
    "    print(len(c))"
   ]
  },
  {
   "cell_type": "code",
   "execution_count": 39,
   "metadata": {},
   "outputs": [
    {
     "name": "stdout",
     "output_type": "stream",
     "text": [
      "enter a  no76\n",
      "square root is 8.717797887081348\n"
     ]
    }
   ],
   "source": [
    "a=int(input(\"enter a  no\"))\n",
    "print(\"square root is\",a**0.5)"
   ]
  },
  {
   "cell_type": "code",
   "execution_count": null,
   "metadata": {},
   "outputs": [],
   "source": []
  }
 ],
 "metadata": {
  "kernelspec": {
   "display_name": "Python 3",
   "language": "python",
   "name": "python3"
  }
 },
 "nbformat": 4,
 "nbformat_minor": 2
}
