{
 "cells": [
  {
   "cell_type": "markdown",
   "metadata": {},
   "source": [
    "# Problem Solving and Programming\n",
    "## Day Objectives\n",
    "- string slicing\n",
    "- Basic Problems\n",
    "- Applying Data Structures to Solve problems"
   ]
  },
  {
   "cell_type": "markdown",
   "metadata": {},
   "source": [
    "# String Slicing"
   ]
  },
  {
   "cell_type": "code",
   "execution_count": 1,
   "metadata": {},
   "outputs": [
    {
     "data": {
      "text/plain": [
       "'Python'"
      ]
     },
     "execution_count": 1,
     "metadata": {},
     "output_type": "execute_result"
    }
   ],
   "source": [
    "s1 = \"Python\"\n",
    "s1"
   ]
  },
  {
   "cell_type": "code",
   "execution_count": 2,
   "metadata": {},
   "outputs": [
    {
     "data": {
      "text/plain": [
       "'n'"
      ]
     },
     "execution_count": 2,
     "metadata": {},
     "output_type": "execute_result"
    }
   ],
   "source": [
    "s1[len(s1)-1]\n"
   ]
  },
  {
   "cell_type": "code",
   "execution_count": 3,
   "metadata": {},
   "outputs": [
    {
     "data": {
      "text/plain": [
       "'h'"
      ]
     },
     "execution_count": 3,
     "metadata": {},
     "output_type": "execute_result"
    }
   ],
   "source": [
    "s1[1]  #accessesing 1st charatcer\n",
    "s1[1]    #acessing second character\n",
    "s1[len(s1)-1] #another the last character\n",
    "s1[-1]  #acessing last character\n",
    "s1[-2] #acessing penultimate character of a string\n",
    "\n",
    "s1[0:2]  #for printing first 2 characters\n",
    "\n",
    "s1[-3:] #for print last three characters\n",
    "s1[4:] \n",
    "s1[1:-1]\n",
    "s1[(len(s1)//2)]"
   ]
  },
  {
   "cell_type": "markdown",
   "metadata": {},
   "source": [
    "### reverse of a string\n"
   ]
  },
  {
   "cell_type": "code",
   "execution_count": 4,
   "metadata": {},
   "outputs": [
    {
     "data": {
      "text/plain": [
       "'nohtyP'"
      ]
     },
     "execution_count": 4,
     "metadata": {},
     "output_type": "execute_result"
    }
   ],
   "source": [
    "s1[-1::-1]"
   ]
  },
  {
   "cell_type": "code",
   "execution_count": 5,
   "metadata": {},
   "outputs": [],
   "source": [
    "b=\"mom\""
   ]
  },
  {
   "cell_type": "code",
   "execution_count": 6,
   "metadata": {},
   "outputs": [
    {
     "data": {
      "text/plain": [
       "'mom'"
      ]
     },
     "execution_count": 6,
     "metadata": {},
     "output_type": "execute_result"
    }
   ],
   "source": [
    "b[-1::-1]  #to reverse entire string"
   ]
  },
  {
   "cell_type": "code",
   "execution_count": 7,
   "metadata": {},
   "outputs": [
    {
     "data": {
      "text/plain": [
       "'no'"
      ]
     },
     "execution_count": 7,
     "metadata": {},
     "output_type": "execute_result"
    }
   ],
   "source": [
    "s1[-1:-3:-1] #for acesseing a last two characters"
   ]
  },
  {
   "cell_type": "code",
   "execution_count": 8,
   "metadata": {},
   "outputs": [
    {
     "data": {
      "text/plain": [
       "'av'"
      ]
     },
     "execution_count": 8,
     "metadata": {},
     "output_type": "execute_result"
    }
   ],
   "source": [
    "#reverse the middle two characters of in an even length string\n",
    "\n",
    "\n",
    "a=\"sivare\"\n",
    "a[len(a)//2:1:-1]"
   ]
  },
  {
   "cell_type": "code",
   "execution_count": 9,
   "metadata": {},
   "outputs": [
    {
     "data": {
      "text/plain": [
       "'a'"
      ]
     },
     "execution_count": 9,
     "metadata": {},
     "output_type": "execute_result"
    }
   ],
   "source": [
    "#acesesing alternate character in a string\n",
    "\n",
    "a[len(a)//2:2:-1]"
   ]
  },
  {
   "cell_type": "code",
   "execution_count": 10,
   "metadata": {},
   "outputs": [
    {
     "data": {
      "text/plain": [
       "'eai'"
      ]
     },
     "execution_count": 10,
     "metadata": {},
     "output_type": "execute_result"
    }
   ],
   "source": [
    "a[-1::-2]"
   ]
  },
  {
   "cell_type": "markdown",
   "metadata": {},
   "source": [
    "# function\n"
   ]
  },
  {
   "cell_type": "code",
   "execution_count": 11,
   "metadata": {},
   "outputs": [
    {
     "data": {
      "text/plain": [
       "'nohtyp'"
      ]
     },
     "execution_count": 11,
     "metadata": {},
     "output_type": "execute_result"
    }
   ],
   "source": [
    "#function to reverse a string\n",
    "def reverseString(s):\n",
    "    return s[::-1]\n",
    "\n",
    "\n",
    "reverseString(\"python\")"
   ]
  },
  {
   "cell_type": "code",
   "execution_count": 12,
   "metadata": {},
   "outputs": [
    {
     "data": {
      "text/plain": [
       "True"
      ]
     },
     "execution_count": 12,
     "metadata": {},
     "output_type": "execute_result"
    }
   ],
   "source": [
    "#function check if string is palindrome\n",
    "def pallindrome(s):\n",
    "    if( s == s[::-1]):\n",
    "        return True\n",
    "    else:\n",
    "        return False\n",
    "pallindrome(\"\")"
   ]
  },
  {
   "cell_type": "code",
   "execution_count": 13,
   "metadata": {},
   "outputs": [
    {
     "data": {
      "text/plain": [
       "False"
      ]
     },
     "execution_count": 13,
     "metadata": {},
     "output_type": "execute_result"
    }
   ],
   "source": [
    "def leap(s):\n",
    "    if(s%400==0 or (s%100!=0 and s%4==0)):\n",
    "        return True\n",
    "    else:\n",
    "        return False\n",
    "\n",
    "leap(1998)"
   ]
  },
  {
   "cell_type": "code",
   "execution_count": 14,
   "metadata": {},
   "outputs": [
    {
     "data": {
      "text/plain": [
       "10"
      ]
     },
     "execution_count": 14,
     "metadata": {},
     "output_type": "execute_result"
    }
   ],
   "source": [
    "def noofDigits(a):\n",
    "    su=len(str(a))\n",
    "    return su\n",
    "\n",
    "\n",
    "\n",
    "noofDigits(1234567890)\n"
   ]
  },
  {
   "cell_type": "code",
   "execution_count": 15,
   "metadata": {},
   "outputs": [
    {
     "data": {
      "text/plain": [
       "678"
      ]
     },
     "execution_count": 15,
     "metadata": {},
     "output_type": "execute_result"
    }
   ],
   "source": [
    "def greatest(a,b,c ,d):\n",
    "    if(a>b and a>c and a>d):\n",
    "        return a\n",
    "    elif(b>c and b>d):\n",
    "        return b\n",
    "    elif(c>d):\n",
    "        return c\n",
    "    else:\n",
    "        return d\n",
    "    \n",
    "greatest(234,456,678,123)\n",
    "    "
   ]
  },
  {
   "cell_type": "markdown",
   "metadata": {},
   "source": [
    "### iteration\n",
    "\n",
    "- for\n",
    "- while"
   ]
  },
  {
   "cell_type": "code",
   "execution_count": 16,
   "metadata": {},
   "outputs": [
    {
     "name": "stdout",
     "output_type": "stream",
     "text": [
      "1 2 3 4 5 6 7 8 9 10 "
     ]
    }
   ],
   "source": [
    "#function to print n natural no\n",
    "def printNaturalno(n):\n",
    "    for counter in range(1,n+1):\n",
    "        print (counter,end=\" \")\n",
    "    return\n",
    "\n",
    "printNaturalno(10)"
   ]
  },
  {
   "cell_type": "code",
   "execution_count": 17,
   "metadata": {},
   "outputs": [
    {
     "name": "stdout",
     "output_type": "stream",
     "text": [
      "1 2 3 4 5 6 7 8 9 10 11 12 13 14 15 16 17 18 19 20 21 22 23 24 25 26 27 28 29 30 31 32 33 34 35 36 37 38 39 40 41 42 43 44 45 46 47 48 49 50 51 52 53 54 "
     ]
    }
   ],
   "source": [
    "#functin pro=int n natural no uding a while loop\n",
    "def nNatural(n):\n",
    "    counter = 1\n",
    "    while counter <= n:\n",
    "        print(counter,end=\" \")\n",
    "        counter=counter+1\n",
    "    return\n",
    "nNatural(54)"
   ]
  },
  {
   "cell_type": "code",
   "execution_count": 18,
   "metadata": {},
   "outputs": [
    {
     "name": "stdout",
     "output_type": "stream",
     "text": [
      "10 12 14 16 18 20 "
     ]
    }
   ],
   "source": [
    "#function to print the alternate values in the both boundaries are exclusive\n",
    "#[500,550] ->both are inclusive\n",
    "#(500,550) ->both boundaries are exclusive\n",
    "def alternateNo(lb,ub):\n",
    "    for counter in range (lb,ub+1 ,2):\n",
    "        print(counter,end=\" \")\n",
    "    return\n",
    "alternateNo(10,20)\n",
    "    "
   ]
  },
  {
   "cell_type": "code",
   "execution_count": 19,
   "metadata": {},
   "outputs": [
    {
     "name": "stdout",
     "output_type": "stream",
     "text": [
      "20 18 16 14 12 10 "
     ]
    }
   ],
   "source": [
    "#function of revaerse in a range\n",
    "def reverseNo(lb,ub):\n",
    "    for counter in range (ub,lb-1,-2):\n",
    "         print(counter,end=\" \")\n",
    "    return\n",
    "\n",
    "reverseNo(10,20)"
   ]
  },
  {
   "cell_type": "code",
   "execution_count": 20,
   "metadata": {},
   "outputs": [
    {
     "name": "stdout",
     "output_type": "stream",
     "text": [
      "19 17 15 13 11 "
     ]
    }
   ],
   "source": [
    "#function to print odd no in reverse order\n",
    "def oddReverse(lb,ub):\n",
    "    for i in range (ub,lb-1,-1):\n",
    "        if(i%2!=0):\n",
    "            print(i,end=\" \")\n",
    "    return\n",
    "oddReverse(10,20)"
   ]
  },
  {
   "cell_type": "code",
   "execution_count": 21,
   "metadata": {},
   "outputs": [
    {
     "name": "stdout",
     "output_type": "stream",
     "text": [
      "12 18 24 30 36 42 48 54 60 66 72 78 84 90 96 102 108 114 120 126 132 138 144 150 156 162 168 174 180 186 192 198 204 210 216 222 228 234 240 246 252 258 264 270 276 282 288 294 300 306 312 318 324 330 336 342 348 354 360 366 372 378 384 390 396 402 408 414 420 426 432 438 444 450 456 462 468 474 480 486 492 498 504 510 516 522 528 534 540 546 552 558 564 570 576 582 588 594 600 606 612 618 624 630 636 642 648 654 660 666 672 678 684 690 696 702 708 714 720 726 732 738 744 750 756 762 768 774 780 786 792 798 804 810 816 822 828 834 840 846 852 858 864 870 876 882 888 894 900 906 912 918 924 930 936 942 948 954 960 966 972 978 984 990 996 "
     ]
    }
   ],
   "source": [
    "#function to print all numbers divisible 6 and not a factor of 100 gine range (lb and ub)\n",
    "def myc(a,b):\n",
    "    counter=a\n",
    "    for counter in range (a,b+1):\n",
    "        if(a%2==0 and a%3==0 and 100%a!=0):\n",
    "            print(a, end = \" \")\n",
    "            a=a+1\n",
    "        else:\n",
    "            a=a+1\n",
    "\n",
    "myc(10,1000)"
   ]
  },
  {
   "cell_type": "code",
   "execution_count": 22,
   "metadata": {},
   "outputs": [
    {
     "data": {
      "text/plain": [
       "390"
      ]
     },
     "execution_count": 22,
     "metadata": {},
     "output_type": "execute_result"
    }
   ],
   "source": [
    "#sum of all no in Range\n",
    "def sumNo(lb,ub):\n",
    "    sum=0\n",
    "    for i in range(lb,ub+1):\n",
    "        sum=sum+i\n",
    "    return sum\n",
    "\n",
    "sumNo(10,29)\n"
   ]
  },
  {
   "cell_type": "code",
   "execution_count": 23,
   "metadata": {},
   "outputs": [
    {
     "data": {
      "text/plain": [
       "5"
      ]
     },
     "execution_count": 23,
     "metadata": {},
     "output_type": "execute_result"
    }
   ],
   "source": [
    "#function to calculate avarage of no in a Given Range\n",
    "def avg(lb,ub):\n",
    "    sum=0\n",
    "    avg=0\n",
    "    k=0\n",
    "    for i in range (lb,ub+1):\n",
    "        sum=sum+i\n",
    "        k=k+1\n",
    "    avg=int(sum/k)\n",
    "    #avg=int(avg)\n",
    "    return avg\n",
    "\n",
    "avg(1,10)"
   ]
  },
  {
   "cell_type": "markdown",
   "metadata": {},
   "source": [
    "### leap year one form"
   ]
  },
  {
   "cell_type": "code",
   "execution_count": 24,
   "metadata": {},
   "outputs": [
    {
     "name": "stdout",
     "output_type": "stream",
     "text": [
      "2016 "
     ]
    }
   ],
   "source": [
    "#function to generate the leap years in given time period \n",
    "def listOfLeap(lb,ub):\n",
    "    for i in range(lb,ub+1):\n",
    "        if(i%400==0 or (i%4==0 and i%100!=0)):\n",
    "            print(i,end=\" \")\n",
    "            i=i+1\n",
    "        \n",
    "    return\n",
    "listOfLeap(2016,2018)"
   ]
  },
  {
   "cell_type": "markdown",
   "metadata": {},
   "source": [
    "### leap year another form"
   ]
  },
  {
   "cell_type": "code",
   "execution_count": 25,
   "metadata": {},
   "outputs": [
    {
     "data": {
      "text/plain": [
       "False"
      ]
     },
     "execution_count": 25,
     "metadata": {},
     "output_type": "execute_result"
    }
   ],
   "source": [
    "def isLeapYear(year):\n",
    "    if(year%400==0)or(year%4==0 and year%100!=0):\n",
    "        return True\n",
    "    else:\n",
    "        return False\n",
    "    \n",
    "isLeapYear(2018)"
   ]
  },
  {
   "cell_type": "code",
   "execution_count": 115,
   "metadata": {},
   "outputs": [
    {
     "data": {
      "text/plain": [
       "1461"
      ]
     },
     "execution_count": 115,
     "metadata": {},
     "output_type": "execute_result"
    }
   ],
   "source": [
    "def generatenoofdays(start,end):\n",
    "    sum=0\n",
    "    for i in range(start,end+1):\n",
    "        if isLeapYear(i):\n",
    "            sum+=366\n",
    "        else:\n",
    "            sum+=365\n",
    "    return sum\n",
    "\n",
    "generatenoofdays(2016,2019)"
   ]
  },
  {
   "cell_type": "code",
   "execution_count": 55,
   "metadata": {},
   "outputs": [
    {
     "data": {
      "text/plain": [
       "1"
      ]
     },
     "execution_count": 55,
     "metadata": {},
     "output_type": "execute_result"
    }
   ],
   "source": [
    "def noofLeap(lb,ub):\n",
    "    j=0\n",
    "    for i in range (lb,ub+1):\n",
    "        if isLeapYear(i):\n",
    "            j=j+1\n",
    "    return j\n",
    "\n",
    "noofLeap(2016,2018)\n",
    "        \n",
    "        "
   ]
  },
  {
   "cell_type": "code",
   "execution_count": 98,
   "metadata": {},
   "outputs": [
    {
     "data": {
      "text/plain": [
       "730"
      ]
     },
     "execution_count": 98,
     "metadata": {},
     "output_type": "execute_result"
    }
   ],
   "source": [
    "#calculate number of days in given time period considering leap years also\n",
    "def noofDays(lb,ub):\n",
    "    j=0\n",
    "    k=0\n",
    "    days=0\n",
    "    sum=0\n",
    "    for y in range(lb,ub+1):\n",
    "        if isLeapYear(y):\n",
    "            #sum=sum+366\n",
    "           #print(j, end=\" \")\n",
    "            j=j+1\n",
    "            y=y+1\n",
    "        else:\n",
    "            sum=sum+365\n",
    "            #print(k)\n",
    "            k=k+1\n",
    "            y=y+1\n",
    "    days=((j*366)+(k*365))\n",
    "    #print(days)\n",
    "    return days\n",
    "\n",
    " \n",
    "\n",
    "noofDays(2002,2003)\n",
    "    \n",
    "    \n"
   ]
  },
  {
   "cell_type": "code",
   "execution_count": 68,
   "metadata": {},
   "outputs": [
    {
     "data": {
      "text/plain": [
       "29"
      ]
     },
     "execution_count": 68,
     "metadata": {},
     "output_type": "execute_result"
    }
   ],
   "source": [
    "def noofDaysinMonth(month,year):\n",
    "    if (month==2):\n",
    "        if isLeapYear(year):\n",
    "            return 29\n",
    "        return 28\n",
    "    elif(month>=8 and month<13 and month%2==0)or(month<=7 and month%2!=0 and month!=0):\n",
    "        return 31\n",
    "    else:\n",
    "        return 30\n",
    "\n",
    "\n",
    "noofDaysinMonth(2,2016)"
   ]
  },
  {
   "cell_type": "code",
   "execution_count": 46,
   "metadata": {},
   "outputs": [
    {
     "data": {
      "text/plain": [
       "96432"
      ]
     },
     "execution_count": 46,
     "metadata": {},
     "output_type": "execute_result"
    }
   ],
   "source": [
    "#function to calculate number of hours \n",
    "noofDays(2000,2010)*24 \n"
   ]
  },
  {
   "cell_type": "code",
   "execution_count": 119,
   "metadata": {},
   "outputs": [
    {
     "data": {
      "text/plain": [
       "366"
      ]
     },
     "execution_count": 119,
     "metadata": {},
     "output_type": "execute_result"
    }
   ],
   "source": [
    "def startmonthdays(month,year):\n",
    "    days=0\n",
    "    for month in range (month,13):\n",
    "        days+=noofDaysinMonth(month,year)\n",
    "    return days\n",
    "startmonthdays(1,2016)"
   ]
  },
  {
   "cell_type": "code",
   "execution_count": 125,
   "metadata": {},
   "outputs": [
    {
     "data": {
      "text/plain": [
       "366"
      ]
     },
     "execution_count": 125,
     "metadata": {},
     "output_type": "execute_result"
    }
   ],
   "source": [
    "def endmonthdays(month,year):\n",
    "    days=0\n",
    "    for month in range(month,0,-1):\n",
    "        days+=noofDaysinMonth(month,year)\n",
    "    return days\n",
    "\n",
    "endmonthdays(12,2016)"
   ]
  },
  {
   "cell_type": "code",
   "execution_count": 128,
   "metadata": {},
   "outputs": [
    {
     "name": "stdout",
     "output_type": "stream",
     "text": [
      "61\n",
      "366\n"
     ]
    }
   ],
   "source": [
    "#no of days in a given time period\n",
    "def noofHours(m1,y1,m2,y2):\n",
    "    a=0\n",
    "    b=0\n",
    "    c=0\n",
    "    days=0\n",
    "    b=startmonthdays(m1,y1)\n",
    "    print(b)\n",
    "    c=endmonthdays(m2,y2)\n",
    "    print(c)\n",
    "   \n",
    "    \n",
    "    \n",
    "noofHours(11,2016,12,2016)\n",
    "    "
   ]
  },
  {
   "cell_type": "code",
   "execution_count": null,
   "metadata": {},
   "outputs": [],
   "source": [
    "\n",
    "    if y2-y1==2:\n",
    "        a=generatenoofdays(y1+1,y1+1)\n",
    "    elif y2-y1>2:\n",
    "        a=generatenoofdays(y1+1,y2-1)\n",
    "    print(a)\n",
    "    days=a+b+c\n",
    "    hours=days*24\n",
    "    #print(days)\n",
    "    return hours"
   ]
  },
  {
   "cell_type": "code",
   "execution_count": null,
   "metadata": {},
   "outputs": [],
   "source": []
  },
  {
   "cell_type": "code",
   "execution_count": 32,
   "metadata": {},
   "outputs": [],
   "source": [
    "#function to calculate no hours for given period \n",
    "#numberofHours(11,1975,3,1999)"
   ]
  },
  {
   "cell_type": "code",
   "execution_count": 33,
   "metadata": {},
   "outputs": [
    {
     "data": {
      "text/plain": [
       "36.0"
      ]
     },
     "execution_count": 33,
     "metadata": {},
     "output_type": "execute_result"
    }
   ],
   "source": [
    "#find the avaerage of cubes all given nos (lb,ub)\n",
    "def aoc(a,b):\n",
    "    a=int(a)\n",
    "    b=int(b)\n",
    "    su=0\n",
    "    average=0\n",
    "    i=0\n",
    "    for count in range(a,b+1):\n",
    "        if(count%2==0):\n",
    "            count=count**3\n",
    "            su=su+count\n",
    "            i=i+1\n",
    "            count=count+1\n",
    "        \n",
    "    average=su/i\n",
    "    return average\n",
    "\n",
    "\n",
    "aoc(1,4)\n",
    "\n"
   ]
  },
  {
   "cell_type": "code",
   "execution_count": 34,
   "metadata": {},
   "outputs": [
    {
     "name": "stdout",
     "output_type": "stream",
     "text": [
      "1 11 13 67 143 737 871 9581 "
     ]
    }
   ],
   "source": [
    "#function to generate all factors of a given no\n",
    "def fac(n):\n",
    "    for i in range (1,n+1):\n",
    "        if(n%i==0):\n",
    "            print(i ,end=\" \")\n",
    "            i=i+1\n",
    "        else:\n",
    "            i=i+1\n",
    "         \n",
    "fac(9581)"
   ]
  },
  {
   "cell_type": "code",
   "execution_count": 35,
   "metadata": {},
   "outputs": [
    {
     "ename": "TypeError",
     "evalue": "factorial() missing 1 required positional argument: 'n'",
     "output_type": "error",
     "traceback": [
      "\u001b[1;31m---------------------------------------------------------------------------\u001b[0m",
      "\u001b[1;31mTypeError\u001b[0m                                 Traceback (most recent call last)",
      "\u001b[1;32m<ipython-input-35-f38e8d305a5c>\u001b[0m in \u001b[0;36m<module>\u001b[1;34m\u001b[0m\n\u001b[0;32m      5\u001b[0m         \u001b[0mfact\u001b[0m\u001b[1;33m*=\u001b[0m\u001b[0mi\u001b[0m\u001b[1;33m\u001b[0m\u001b[1;33m\u001b[0m\u001b[0m\n\u001b[0;32m      6\u001b[0m     \u001b[1;32mreturn\u001b[0m \u001b[0mfact\u001b[0m\u001b[1;33m\u001b[0m\u001b[1;33m\u001b[0m\u001b[0m\n\u001b[1;32m----> 7\u001b[1;33m \u001b[0mfactorial\u001b[0m\u001b[1;33m(\u001b[0m\u001b[1;33m)\u001b[0m\u001b[1;33m\u001b[0m\u001b[1;33m\u001b[0m\u001b[0m\n\u001b[0m",
      "\u001b[1;31mTypeError\u001b[0m: factorial() missing 1 required positional argument: 'n'"
     ]
    }
   ],
   "source": [
    "#factorial of a no\n",
    "def factorial(n):\n",
    "    fact=1\n",
    "    for i in range (2,n+1):\n",
    "        fact*=i\n",
    "    return fact\n",
    "factorial()"
   ]
  },
  {
   "cell_type": "code",
   "execution_count": null,
   "metadata": {},
   "outputs": [],
   "source": [
    "#function check if a no is prin=me or not\n",
    "def pri(n):\n",
    "    if(n%2==0 or n%3==0 or n%5==0 or n%9==0 ):\n",
    "        return False\n",
    "    else:\n",
    "        return True\n",
    "pri(17)\n"
   ]
  },
  {
   "cell_type": "code",
   "execution_count": null,
   "metadata": {},
   "outputs": [],
   "source": [
    "#function to calculate the average of first n prime no\n",
    "def avgPrime(n):\n",
    "    primecount=0\n",
    "    sum=0\n",
    "    seqCount=2\n",
    "    while(primecount<n):\n",
    "        if ispri(seqCount):\n",
    "            primecount+=1\n",
    "            sum += seqCount\n",
    "        seCount +=1\n",
    "    return sum/n\n",
    "\n",
    "avgPrime(10)"
   ]
  },
  {
   "cell_type": "code",
   "execution_count": 36,
   "metadata": {},
   "outputs": [
    {
     "data": {
      "text/plain": [
       "True"
      ]
     },
     "execution_count": 36,
     "metadata": {},
     "output_type": "execute_result"
    }
   ],
   "source": [
    "#armstrong\n",
    "def armstrong(n):\n",
    "    m=len(str(n))\n",
    "    o=str(n)\n",
    "    sum=0\n",
    "    j=0\n",
    "    arm=0\n",
    "    k=0\n",
    "    for i in range(0,m):\n",
    "        j=o[i]\n",
    "        k=int(j)\n",
    "        sum=k**m\n",
    "        arm=arm+sum\n",
    "    if(arm==n):\n",
    "        return True\n",
    "    else:\n",
    "        return False\n",
    "    \n",
    "armstrong(40028394225)"
   ]
  },
  {
   "cell_type": "code",
   "execution_count": null,
   "metadata": {},
   "outputs": [],
   "source": [
    "def allamstrong(num):\n",
    "    for i in range(1,num+1):\n",
    "        if armstrong(i):\n",
    "            print(i,end=' ')\n",
    "    return\n",
    "\n",
    "allamstrong(10)           "
   ]
  },
  {
   "cell_type": "code",
   "execution_count": null,
   "metadata": {},
   "outputs": [],
   "source": []
  },
  {
   "cell_type": "code",
   "execution_count": 52,
   "metadata": {},
   "outputs": [
    {
     "name": "stdout",
     "output_type": "stream",
     "text": [
      "1 2 3 4 5 6 7 8 9 153 370 371 407 1634 8208 9474 54748 92727 93084 548834 "
     ]
    }
   ],
   "source": [
    "def noofArm(n):\n",
    "    count=0\n",
    "    for i in range(1,10000000000000000):\n",
    "        if armstrong(i):\n",
    "            count=count+1\n",
    "            print(i,end=\" \")\n",
    "            if(count==n):\n",
    "                return \n",
    "    return\n",
    "noofArm(20)\n",
    "        "
   ]
  },
  {
   "cell_type": "code",
   "execution_count": null,
   "metadata": {},
   "outputs": [],
   "source": [
    " for b in range (1,1000000000):\n",
    "            if armstrong(b):\n",
    "                print(b,end=\" \")\n",
    "                i=+1\n",
    "                "
   ]
  }
 ],
 "metadata": {
  "kernelspec": {
   "display_name": "Python 3",
   "language": "python",
   "name": "python3"
  },
  "language_info": {
   "codemirror_mode": {
    "name": "ipython",
    "version": 3
   },
   "file_extension": ".py",
   "mimetype": "text/x-python",
   "name": "python",
   "nbconvert_exporter": "python",
   "pygments_lexer": "ipython3",
   "version": "3.7.3"
  }
 },
 "nbformat": 4,
 "nbformat_minor": 2
}
