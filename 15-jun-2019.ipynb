{
 "cells": [
  {
   "cell_type": "markdown",
   "metadata": {},
   "source": [
    "## solutions for those problems\n"
   ]
  },
  {
   "cell_type": "markdown",
   "metadata": {},
   "source": [
    "### for that closest to zero problem\n"
   ]
  },
  {
   "cell_type": "code",
   "execution_count": null,
   "metadata": {},
   "outputs": [],
   "source": [
    "# li =[3,2,-1,-2,-3]\n",
    "#sort the data\n",
    "#li.sort()\n",
    "# li=[-3,-2,-1,2,3]  sorted list\n",
    "#take another arry took absolute values\n",
    "#pl=[1,2,2,3,3]  (positive sorted  list)\n",
    "#pl[0], -->check if this number -ve or +ve i the original list\n",
    "#if pl[0] in li yes then return pl[0]\n",
    "#else convert it into negative -p[0]\n",
    "n=int(input())\n",
    "s=input()\n",
    "li=[]\n",
    "for i in s.split():\n",
    "    li.append(int(i))\n",
    "fartherestFrom(li)\n",
    "\n",
    "    \n",
    "\n",
    "\n"
   ]
  },
  {
   "cell_type": "code",
   "execution_count": null,
   "metadata": {},
   "outputs": [],
   "source": [
    "def closestToZero(li):\n",
    "    li.sort()\n",
    "    pl=[]\n",
    "    for i in li:\n",
    "        pl.append(abs(i))\n",
    "    pl.sort()\n",
    "    if pl[0] in li:\n",
    "        print(pl[0])\n",
    "    else:\n",
    "        print(-pl[0])"
   ]
  },
  {
   "cell_type": "code",
   "execution_count": null,
   "metadata": {},
   "outputs": [],
   "source": [
    "def fartherestFrom(li):\n",
    "    li.sort()\n",
    "    pl=[]\n",
    "    for i in li:\n",
    "        pl.append(abs(i))\n",
    "    pl.sort()\n",
    "    if pl[-1] in li:\n",
    "        print(pl[-1])\n",
    "    else:\n",
    "        print(-p1[-1])\n",
    "        \n",
    "    "
   ]
  },
  {
   "cell_type": "code",
   "execution_count": null,
   "metadata": {},
   "outputs": [],
   "source": [
    "def cal(a,b,c):\n",
    "    for i in range (c,a-1,-1):\n",
    "        if i%a ==b:\n",
    "            return i\n",
    "    return -1\n",
    "\n",
    "cal(2,3,4)"
   ]
  },
  {
   "cell_type": "markdown",
   "metadata": {},
   "source": [
    "## count divisors\n",
    "\n",
    "ou have been given 3 integers - l, r and k. Find how many numbers between l and r (both inclusive) are divisible by k. You do not need to print these numbers, you just have to find their count.\n",
    "\n",
    "Input Format\n",
    "The first and only line of input contains 3 space separated integers l, r and k.\n",
    "\n",
    "Output Format\n",
    "Print the required answer on a single line.\n",
    "\n",
    "Constraints\n",
    " \n",
    "\n",
    "SAMPLE INPUT \n",
    "1 10 1\n",
    "SAMPLE OUTPUT \n",
    "10"
   ]
  },
  {
   "cell_type": "code",
   "execution_count": null,
   "metadata": {},
   "outputs": [],
   "source": [
    "def countDivisors(i,j,k):\n",
    "    count=0\n",
    "    for k in range (i,j):\n",
    "        if (i%k)==0:\n",
    "            count+=1\n",
    "    return count\n",
    "    \n",
    "s=input()\n",
    "s.split()\n",
    "numberlist=[]\n",
    "for i in s:\n",
    "    numberlist.append[int(i)]\n",
    "countDivisors(numberlist)"
   ]
  },
  {
   "cell_type": "code",
   "execution_count": null,
   "metadata": {},
   "outputs": [],
   "source": [
    "s=input()\n",
    "s=s.split()\n",
    "numberlist=[]\n",
    "for i in s:\n",
    "    numberlist.append[int(i)]\n",
    "numberlist"
   ]
  },
  {
   "cell_type": "markdown",
   "metadata": {},
   "source": [
    "# factorial problem"
   ]
  },
  {
   "cell_type": "code",
   "execution_count": null,
   "metadata": {},
   "outputs": [],
   "source": [
    "\n",
    "\n",
    "\n",
    "def factorial(a):\n",
    "    fact=1\n",
    "    for i in range (2,a+1):\n",
    "        fact*=i\n",
    "    print(fact)\n",
    "a=int(input())\n",
    "factorial(a)"
   ]
  },
  {
   "cell_type": "markdown",
   "metadata": {},
   "source": [
    "# toggle\n",
    "\n",
    "\n",
    "You have been given a String S consisting of uppercase and lowercase English alphabets. You need to change the case of each alphabet in this String. That is, all the uppercase letters should be converted to lowercase and all the lowercase letters should be converted to uppercase. You need to then print the resultant String to output.\n",
    "\n",
    "Input Format\n",
    "The first and only line of input contains the String S\n",
    "\n",
    "Output Format\n",
    "Print the resultant String on a single line.\n",
    "\n",
    "Constraints\n",
    " where S denotes the length of string S.\n",
    "\n",
    "SAMPLE INPUT \n",
    "abcdE\n",
    "SAMPLE OUTPUT \n",
    "ABCDe"
   ]
  },
  {
   "cell_type": "code",
   "execution_count": 2,
   "metadata": {},
   "outputs": [
    {
     "name": "stdout",
     "output_type": "stream",
     "text": [
      "shiVa\n",
      "SHIvA\n"
     ]
    }
   ],
   "source": [
    "def dam(s):\n",
    "    string=\"\"\n",
    "    for i in s:\n",
    "        if i.isupper():\n",
    "            string+=i.lower()\n",
    "        elif i.islower():\n",
    "            string+=i.upper()\n",
    "    print(string)\n",
    "            \n",
    "\n",
    "s=input()\n",
    "dam(s)\n"
   ]
  },
  {
   "cell_type": "markdown",
   "metadata": {},
   "source": [
    "# Pallindrome\n",
    "\n",
    "\n",
    "\n",
    "You are given an integer N. You need to print the series of all prime numbers till N.\n",
    "\n",
    "Input Format\n",
    "\n",
    "The first and only line of the input contains a single integer N denoting the number till where you need to find the series of prime number.\n",
    "\n",
    "Output Format\n",
    "\n",
    "Print the desired output in single line separated by spaces.\n",
    "\n",
    "Constraints\n",
    "\n",
    "1<=N<=1000\n",
    "\n",
    "SAMPLE INPUT \n",
    "9\n",
    "SAMPLE OUTPUT \n",
    "2 3 5 7"
   ]
  },
  {
   "cell_type": "code",
   "execution_count": 8,
   "metadata": {},
   "outputs": [
    {
     "name": "stdout",
     "output_type": "stream",
     "text": [
      "sks\n",
      "YES\n"
     ]
    }
   ],
   "source": [
    "def pallindrome(s):\n",
    "    p=\"\"\n",
    "    if(s==s[::-1]):\n",
    "        print(\"YES\")\n",
    "    else:\n",
    "        print(\"NO\")\n",
    "\n",
    "s=input()\n",
    "pallindrome(s)"
   ]
  },
  {
   "cell_type": "code",
   "execution_count": 6,
   "metadata": {},
   "outputs": [
    {
     "data": {
      "text/plain": [
       "1"
      ]
     },
     "execution_count": 6,
     "metadata": {},
     "output_type": "execute_result"
    }
   ],
   "source": [
    "ord('a')-96"
   ]
  },
  {
   "cell_type": "code",
   "execution_count": null,
   "metadata": {},
   "outputs": [],
   "source": [
    "ord(\"z\")-96"
   ]
  },
  {
   "cell_type": "markdown",
   "metadata": {},
   "source": [
    "## Prime\n",
    "\n",
    "You are given an integer N. You need to print the series of all prime numbers till N.\n",
    "\n",
    "Input Format\n",
    "\n",
    "The first and only line of the input contains a single integer N denoting the number till where you need to find the series of prime number.\n",
    "\n",
    "Output Format\n",
    "\n",
    "Print the desired output in single line separated by spaces.\n",
    "\n",
    "Constraints\n",
    "\n",
    "1<=N<=1000\n",
    "\n",
    "SAMPLE INPUT \n",
    "9\n",
    "SAMPLE OUTPUT \n",
    "2 3 5 7"
   ]
  },
  {
   "cell_type": "code",
   "execution_count": null,
   "metadata": {},
   "outputs": [],
   "source": [
    "def isPrime1(num):\n",
    "    if num > 1: \n",
    "        for i in range(2, num//2): \n",
    "            if (num % i) == 0: \n",
    "                return False\n",
    "                break\n",
    "            else: \n",
    "                return True\n",
    "    else: \n",
    "        return False"
   ]
  },
  {
   "cell_type": "code",
   "execution_count": null,
   "metadata": {},
   "outputs": [],
   "source": [
    "isPrime(9)"
   ]
  },
  {
   "cell_type": "code",
   "execution_count": null,
   "metadata": {},
   "outputs": [],
   "source": [
    "def isPrime(num):\n",
    "    if(num==2 or num==3 or num==5 or num==7):\n",
    "        return True\n",
    "    if(num%2==0 or num%3==0 or num%5==0 or num%7==0):\n",
    "        return False\n",
    "\n",
    "    return True\n"
   ]
  },
  {
   "cell_type": "code",
   "execution_count": null,
   "metadata": {},
   "outputs": [],
   "source": [
    "def primeornot(N):\n",
    "    for i in range(2,N):\n",
    "        if(N%i)==0:\n",
    "            return False\n",
    "    return True"
   ]
  },
  {
   "cell_type": "code",
   "execution_count": null,
   "metadata": {},
   "outputs": [],
   "source": [
    "\n",
    "def listofPrime(N):\n",
    "    for i in range(2,N+1):\n",
    "        if primeornot(i):\n",
    "            print(i,end=\" \")\n",
    "N=int(input())\n",
    "listofPrime(N)"
   ]
  },
  {
   "cell_type": "markdown",
   "metadata": {},
   "source": [
    "# two strings\n",
    "\n",
    "\n",
    "\n"
   ]
  },
  {
   "cell_type": "code",
   "execution_count": null,
   "metadata": {},
   "outputs": [],
   "source": [
    "def TwoStrings(s1,s2):\n",
    "    a=len(s1)\n",
    "    b=len(s2)\n",
    "    s11=[]\n",
    "    s22=[]\n",
    "    for i in range(0,a):\n",
    "        s11+=s1[i]\n",
    "    print(s11)\n",
    "    for i in range(0,b):\n",
    "        s22+=s2[i]\n",
    "    print(s22)\n",
    "    if(s11==s22):\n",
    "        print(\"same strings\")\n",
    "    else:\n",
    "        print(\"pora edava\")"
   ]
  },
  {
   "cell_type": "code",
   "execution_count": null,
   "metadata": {},
   "outputs": [],
   "source": [
    "def twostrings(s1,s2):\n",
    "    s3=sorted(s1)\n",
    "    s4=sorted(s2)\n",
    "    if(s3==s4):\n",
    "        print(\"YES\")\n",
    "    else:\n",
    "        print(\"NO\")\n"
   ]
  },
  {
   "cell_type": "code",
   "execution_count": null,
   "metadata": {},
   "outputs": [],
   "source": [
    "def twostrings(s1,s2):\n",
    "    s3=sorted(s1)\n",
    "    s4=sorted(s2)\n",
    "    if(s3==s4):\n",
    "        print(\"YES\")\n",
    "    else:\n",
    "        print(\"NO\")\n",
    "\n",
    "a=int(input())\n",
    "for i in range (1,a+1):\n",
    "    s=input()\n",
    "    s=s.split()\n",
    "    s1=s[0]\n",
    "    s2=s[1]\n",
    "    twostrings(s1,s2)\n",
    "    "
   ]
  },
  {
   "cell_type": "code",
   "execution_count": null,
   "metadata": {},
   "outputs": [],
   "source": [
    "s1=\"shiva\"\n",
    "s2=\"hsiva\"\n",
    "s1"
   ]
  },
  {
   "cell_type": "code",
   "execution_count": null,
   "metadata": {},
   "outputs": [],
   "source": [
    "TwoStrings1(s1,s2)"
   ]
  },
  {
   "cell_type": "code",
   "execution_count": null,
   "metadata": {},
   "outputs": [],
   "source": [
    "def TwoStrings1(s1,s2):\n",
    "    a=set(s1)\n",
    "    b=set(s2)\n",
    "    if(common_char=a & b)==s1:\n",
    "        print(\"i am done\")\n",
    "    else:\n",
    "        print(\"nikundirooo\")"
   ]
  },
  {
   "cell_type": "code",
   "execution_count": null,
   "metadata": {},
   "outputs": [],
   "source": [
    "c=\"shiva\""
   ]
  },
  {
   "cell_type": "code",
   "execution_count": null,
   "metadata": {},
   "outputs": [],
   "source": [
    "set(c)"
   ]
  },
  {
   "cell_type": "code",
   "execution_count": null,
   "metadata": {},
   "outputs": [],
   "source": [
    "d=\"hisva\""
   ]
  },
  {
   "cell_type": "code",
   "execution_count": null,
   "metadata": {},
   "outputs": [],
   "source": [
    "set(d)"
   ]
  },
  {
   "cell_type": "code",
   "execution_count": null,
   "metadata": {},
   "outputs": [],
   "source": [
    "twoStrings(c,d)"
   ]
  },
  {
   "cell_type": "code",
   "execution_count": null,
   "metadata": {},
   "outputs": [],
   "source": [
    "def twoStrings(s1,s2):\n",
    "    a=set(s1)\n",
    "    b=set(s2)\n",
    "    a=len(s1)\n",
    "    print(cmp(a,b))\n",
    "        "
   ]
  },
  {
   "cell_type": "markdown",
   "metadata": {},
   "source": [
    "## timeduration"
   ]
  },
  {
   "cell_type": "code",
   "execution_count": 10,
   "metadata": {},
   "outputs": [
    {
     "name": "stdout",
     "output_type": "stream",
     "text": [
      "5   41\n"
     ]
    }
   ],
   "source": [
    "def TimeDuration(h1,m1,h2,m2):\n",
    "    m=m2+60\n",
    "    m3=m-m1\n",
    "    hd=(h2-h1)-1\n",
    "    if(m3>60):\n",
    "        m4=m3-60\n",
    "        hd+=1\n",
    "    else:\n",
    "        m4=m3\n",
    "    print(hd,\" \",m4)\n",
    "\n",
    "TimeDuration(2,42,8,23)"
   ]
  },
  {
   "cell_type": "markdown",
   "metadata": {},
   "source": [
    "Rahul is a very busy persion he dont wan't to waste his time . He keeps account of duration of each and every work. Now he don't even get time to calculate duration of works, So your job is to count the durations for each work and give it to rahul.\n",
    "\n",
    "Input:\n",
    "\n",
    "First line will be given by N number of works\n",
    "Next N line will be given SH,SM,EH and EM  each separated by space(SH=starting hr, SM=starting min, EH=ending hr, EM=ending min)\n",
    "Output:\n",
    "\n",
    "N lines with duration HH MM(hours and minutes separated by space)\n",
    "SAMPLE INPUT \n",
    "2\n",
    "1 44 2 14\n",
    "2 42 8 23\n",
    "SAMPLE OUTPUT \n",
    "0 30\n",
    "5 41\n",
    "    "
   ]
  },
  {
   "cell_type": "code",
   "execution_count": 23,
   "metadata": {},
   "outputs": [
    {
     "name": "stdout",
     "output_type": "stream",
     "text": [
      "1 \n",
      "12 43 19 34\n",
      "6   51\n"
     ]
    }
   ],
   "source": [
    "def TimeDuration(h1,m1,h2,m2):\n",
    "    m=m2+60\n",
    "    m3=m-m1\n",
    "    hd=(h2-h1)-1\n",
    "    if(m3>=60):\n",
    "        m4=m3-60\n",
    "        hd+=1\n",
    "    else:\n",
    "        m4=m3\n",
    "    print(hd,m4)\n",
    "    \n",
    "w=int(input())\n",
    "for i in range(w):\n",
    "    s=input()\n",
    "    s=s.split()\n",
    "    h1=int(s[0])\n",
    "    m1=int(s[1])\n",
    "    h2=int(s[2])\n",
    "    m2=int(s[3])\n",
    "    tmedur(h1,m1,h2,m2)\n"
   ]
  },
  {
   "cell_type": "code",
   "execution_count": 22,
   "metadata": {},
   "outputs": [],
   "source": [
    "def tmedur(h1,m1,h2,m2):\n",
    "    startminutes=(h1*60)+m1\n",
    "    endminutes=(h2*60)+m2\n",
    "    minutes=endminutes-startminutes\n",
    "    hh=minutes // 60\n",
    "    mm=minutes % 60\n",
    "    print(hh,\" \" ,mm)"
   ]
  },
  {
   "cell_type": "markdown",
   "metadata": {},
   "source": [
    "## char sum\n",
    "onsider All lowercase Alphabets of the English language. Here we consider each alphabet from a to z to have a certain weight. The weight of the alphabet a is considered to be 1, b to be 2, c to be 3 and so on until z has a weight of 26. In short, the weight of the alphabet a is 1, and the weight of all other alphabets is the weight of its previous alphabet + 1.\n",
    "\n",
    "Now, you have been given a String S consisting of lowercase English characters. You need to find the summation of weight of each character in this String.\n",
    "\n",
    "For example, Consider the String aba\n",
    "\n",
    "Here, the first character a has a weight of 1, the second character b has 2 and the third character a again has a weight of 1. So the summation here is equal to : 1+2+1=4\n",
    "\n",
    "Input Format:\n",
    "\n",
    "The first and only line of input contains the String S.\n",
    "\n",
    "Output Format:\n",
    "\n",
    "Print the required answer on a single line\n",
    "\n",
    "Constraints:\n",
    "\n",
    "1≤|S|≤100\n",
    "\n",
    "SAMPLE INPUT \n",
    "aba\n",
    "SAMPLE OUTPUT \n",
    "4"
   ]
  },
  {
   "cell_type": "code",
   "execution_count": null,
   "metadata": {},
   "outputs": [],
   "source": [
    "def charsum(s):\n",
    "    l=len(s)\n",
    "    sum=0\n",
    "    j=0\n",
    "    for i in range(0,l):\n",
    "        j=(ord(s[i])-96)\n",
    "        sum+=j\n",
    "    return(sum)"
   ]
  },
  {
   "cell_type": "code",
   "execution_count": 27,
   "metadata": {},
   "outputs": [
    {
     "data": {
      "text/plain": [
       "65"
      ]
     },
     "execution_count": 27,
     "metadata": {},
     "output_type": "execute_result"
    }
   ],
   "source": [
    "ord(\"A\")"
   ]
  },
  {
   "cell_type": "code",
   "execution_count": null,
   "metadata": {},
   "outputs": [],
   "source": [
    "def charsum(s):\n",
    "    l=len(s)\n",
    "    sum=0\n",
    "    j=0\n",
    "    for i in range(0,l):\n",
    "        j=(ord(s[i])-96)\n",
    "        sum+=j\n",
    "    print(sum)\n",
    "\n",
    "\n",
    "s=input()\n",
    "charsum(s)"
   ]
  },
  {
   "cell_type": "code",
   "execution_count": null,
   "metadata": {},
   "outputs": [],
   "source": [
    "charsum(s)"
   ]
  },
  {
   "cell_type": "markdown",
   "metadata": {},
   "source": [
    "## Play with numbers\n",
    "\n",
    "You are given an array of n numbers and q queries. For each query you have to print the floor of the expected value(mean) of the subarray from L to R.\n",
    "\n",
    "\n",
    "First line contains two integers N and Q denoting number of array elements and number of queries.\n",
    "\n",
    "Next line contains N space seperated integers denoting array elements.\n",
    "\n",
    "Next Q lines contain two integers L and R(indices of the array).\n",
    "\n",
    "\n",
    "print a single integer denoting the answer.\n",
    "\n",
    " :\n",
    "\n",
    "1<= N ,Q,L,R <= 10^6\n",
    "\n",
    "1<= Array elements <= 10^9\n",
    "\n",
    "NOTE\n",
    "\n",
    "Use Fast I/O\n",
    "\n",
    "Problem setter : Sheldon Tauro\n",
    "\n",
    "SAMPLE INPUT \n",
    "5 3\n",
    "1 2 3 4 5\n",
    "1 3\n",
    "2 4\n",
    "2 5\n",
    "SAMPLE OUTPUT \n",
    "2 \n",
    "3\n",
    "3\n"
   ]
  },
  {
   "cell_type": "code",
   "execution_count": 8,
   "metadata": {},
   "outputs": [],
   "source": [
    "def playwithnumbers(li,a,b):\n",
    "    c=li.index(a)\n",
    "    d=li.index(b)\n",
    "    f=len(li[c:d+1])\n",
    "    e=sum(li[c:d+1])\n",
    "    print(int(e/f))\n",
    "    \n",
    "    \n",
    "    "
   ]
  },
  {
   "cell_type": "code",
   "execution_count": null,
   "metadata": {},
   "outputs": [],
   "source": [
    "li=[1,2,3,4,5]"
   ]
  },
  {
   "cell_type": "code",
   "execution_count": null,
   "metadata": {},
   "outputs": [],
   "source": [
    "sum(li[1:3+1])"
   ]
  },
  {
   "cell_type": "code",
   "execution_count": null,
   "metadata": {},
   "outputs": [],
   "source": [
    "playwithnumbers(li,2,4)"
   ]
  },
  {
   "cell_type": "code",
   "execution_count": 7,
   "metadata": {},
   "outputs": [
    {
     "name": "stdout",
     "output_type": "stream",
     "text": [
      "5 3\n",
      "1 2 3 4 5\n",
      "[1, 2, 3, 4, 5]\n",
      "2 3\n",
      "2.5\n",
      "1 3\n",
      "2.0\n",
      "1 5\n",
      "3.0\n"
     ]
    }
   ],
   "source": [
    "a=input()\n",
    "a=a.split()\n",
    "c=int(a[0])\n",
    "d=int(a[1])\n",
    "li=[]\n",
    "e=input()\n",
    "for i in e.split():\n",
    "    li.append(int(i))\n",
    "print (li)\n",
    "for i in a:\n",
    "    li.append(int(i))\n",
    "for i in range (0,d):\n",
    "    a=input()\n",
    "    a=a.split()\n",
    "    e=int(a[0])\n",
    "    f=int(a[1])\n",
    "    playwithnumbers(li,e,f)\n"
   ]
  },
  {
   "cell_type": "code",
   "execution_count": null,
   "metadata": {},
   "outputs": [],
   "source": []
  },
  {
   "cell_type": "code",
   "execution_count": null,
   "metadata": {},
   "outputs": [],
   "source": []
  },
  {
   "cell_type": "code",
   "execution_count": null,
   "metadata": {},
   "outputs": [],
   "source": []
  }
 ],
 "metadata": {
  "kernelspec": {
   "display_name": "Python 3",
   "language": "python",
   "name": "python3"
  }
 },
 "nbformat": 4,
 "nbformat_minor": 2
}
